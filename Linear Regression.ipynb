{
 "cells": [
  {
   "cell_type": "markdown",
   "id": "779615fc",
   "metadata": {},
   "source": [
    "## MAGIGE DAVID \n",
    "## DATA SCIENCE\n",
    "## Simple Linear Regression: Car Insurance\n",
    "\n",
    "We will build a simple linear regression model using the number of car insurance claims in  predicting the amount paid out from the number of Swedish car insurance claims.\n",
    "\n",
    "First we import our required packages into the notebook."
   ]
  },
  {
   "cell_type": "code",
   "execution_count": null,
   "id": "4d09afbd",
   "metadata": {},
   "outputs": [],
   "source": [
    "import pandas as pd\n",
    "import matplotlib.pyplot as plot\n",
    "import statsmodels.api as stats\n",
    "import numpy as np"
   ]
  },
  {
   "cell_type": "markdown",
   "id": "c14bc0a8",
   "metadata": {},
   "source": [
    "### Loading Our Data\n",
    "\n",
    "We will load the car insurance dataset from a csv files to a pandas dataframes with the function pd.read_csv."
   ]
  },
  {
   "cell_type": "code",
   "execution_count": 13,
   "id": "4d691f00",
   "metadata": {},
   "outputs": [],
   "source": [
    "insurance_df = pd.read_csv('C:/Users/HP 15/OneDrive/Desktop/Learner Files - Data Science and ML Fundamentals/2 - Regression/auto_insurance_sweden.csv')"
   ]
  },
  {
   "cell_type": "markdown",
   "id": "5ca2a335",
   "metadata": {},
   "source": [
    "### Assessing the Data\n",
    "\n",
    "We can see the size of our dataframe using df.shape and get the first five rows using df.head."
   ]
  },
  {
   "cell_type": "code",
   "execution_count": 14,
   "id": "c1f7086d",
   "metadata": {},
   "outputs": [
    {
     "data": {
      "text/plain": [
       "(63, 2)"
      ]
     },
     "execution_count": 14,
     "metadata": {},
     "output_type": "execute_result"
    }
   ],
   "source": [
    "insurance_df.shape"
   ]
  },
  {
   "cell_type": "code",
   "execution_count": 15,
   "id": "a9de52c3",
   "metadata": {},
   "outputs": [
    {
     "data": {
      "text/html": [
       "<div>\n",
       "<style scoped>\n",
       "    .dataframe tbody tr th:only-of-type {\n",
       "        vertical-align: middle;\n",
       "    }\n",
       "\n",
       "    .dataframe tbody tr th {\n",
       "        vertical-align: top;\n",
       "    }\n",
       "\n",
       "    .dataframe thead th {\n",
       "        text-align: right;\n",
       "    }\n",
       "</style>\n",
       "<table border=\"1\" class=\"dataframe\">\n",
       "  <thead>\n",
       "    <tr style=\"text-align: right;\">\n",
       "      <th></th>\n",
       "      <th>claims</th>\n",
       "      <th>payment</th>\n",
       "    </tr>\n",
       "  </thead>\n",
       "  <tbody>\n",
       "    <tr>\n",
       "      <th>0</th>\n",
       "      <td>108</td>\n",
       "      <td>392.5</td>\n",
       "    </tr>\n",
       "    <tr>\n",
       "      <th>1</th>\n",
       "      <td>19</td>\n",
       "      <td>46.2</td>\n",
       "    </tr>\n",
       "    <tr>\n",
       "      <th>2</th>\n",
       "      <td>13</td>\n",
       "      <td>15.7</td>\n",
       "    </tr>\n",
       "    <tr>\n",
       "      <th>3</th>\n",
       "      <td>124</td>\n",
       "      <td>422.2</td>\n",
       "    </tr>\n",
       "    <tr>\n",
       "      <th>4</th>\n",
       "      <td>40</td>\n",
       "      <td>119.4</td>\n",
       "    </tr>\n",
       "  </tbody>\n",
       "</table>\n",
       "</div>"
      ],
      "text/plain": [
       "   claims  payment\n",
       "0     108    392.5\n",
       "1      19     46.2\n",
       "2      13     15.7\n",
       "3     124    422.2\n",
       "4      40    119.4"
      ]
     },
     "execution_count": 15,
     "metadata": {},
     "output_type": "execute_result"
    }
   ],
   "source": [
    "insurance_df.head()"
   ]
  },
  {
   "cell_type": "markdown",
   "id": "b956f660",
   "metadata": {},
   "source": [
    "Here we see we have two columns: claims and payment, and that we have 63 observations in our dataset. \n",
    "\n",
    "As we want to predict the payment, this is our target variable. The claims column is our independent variable. "
   ]
  },
  {
   "cell_type": "markdown",
   "id": "522fcca2",
   "metadata": {},
   "source": [
    "### Visualisation of the Data\n",
    "\n",
    "We can take a look at our data by plotting the two columns against each other in a scatter plot using the matplotlib package."
   ]
  },
  {
   "cell_type": "code",
   "execution_count": 42,
   "id": "bb01fc88",
   "metadata": {},
   "outputs": [
    {
     "data": {
      "image/png": "[encoded data removed]",
      "text/plain": [
       "<Figure size 432x288 with 1 Axes>"
      ]
     },
     "metadata": {
      "needs_background": "light"
     },
     "output_type": "display_data"
    }
   ],
   "source": [
    "plot.scatter(insurance_df.claims, insurance_df.payment, color='c')\n",
    "plot.xlabel('Claims', color='g')\n",
    "plot.ylabel('Payment [100k Kenya Shillings]', color='g')\n",
    "plot.show()"
   ]
  },
  {
   "cell_type": "markdown",
   "id": "55cd5b5b",
   "metadata": {},
   "source": [
    "We can see that the data looks broadly linear and a linear regression should be appropriate for this data."
   ]
  },
  {
   "cell_type": "markdown",
   "id": "abfa118e",
   "metadata": {},
   "source": [
    "### Fitting the Linear Regression Model\n",
    "\n",
    "To fit the model using statsmodels we first separate our target variable (Y) and independent variables (X).\n",
    "\n",
    "statsmodels by default fits models without an intercept which can be useful if we know that our model should pass through zero. Here however we want to fit an intercept as well as a slope so must add in a constant term using the function stats.add_constant (This column is added to our X column as it is used when solving OLS problems with matrix algebra)."
   ]
  },
  {
   "cell_type": "code",
   "execution_count": 17,
   "id": "e80e3c1e",
   "metadata": {},
   "outputs": [],
   "source": [
    "Y_insurance = insurance_df.payment\n",
    "X_insurance = stats.add_constant(insurance_df['claims'])"
   ]
  },
  {
   "cell_type": "markdown",
   "id": "cfec2d7e",
   "metadata": {},
   "source": [
    "We then create an instance of the class stats.OLS which encompasses our Ordinary Least Squares algorithm, with our training data. We fit the model using the .fit() method, which returns a results class that we call here results_insurance."
   ]
  },
  {
   "cell_type": "code",
   "execution_count": 18,
   "id": "7fb71a5d",
   "metadata": {},
   "outputs": [],
   "source": [
    "model_insurance = stats.OLS(Y_insurance, X_insurance)\n",
    "results_insurance = model_insurance.fit()"
   ]
  },
  {
   "cell_type": "markdown",
   "id": "836c226c",
   "metadata": {},
   "source": [
    "We can then see our results including all the metrics using the .summary() method on our results class."
   ]
  },
  {
   "cell_type": "code",
   "execution_count": 19,
   "id": "2977c645",
   "metadata": {},
   "outputs": [
    {
     "name": "stdout",
     "output_type": "stream",
     "text": [
      "                            OLS Regression Results                            \n",
      "==============================================================================\n",
      "Dep. Variable:                payment   R-squared:                       0.833\n",
      "Model:                            OLS   Adj. R-squared:                  0.831\n",
      "Method:                 Least Squares   F-statistic:                     305.0\n",
      "Date:                Sun, 25 Jun 2023   Prob (F-statistic):           2.05e-25\n",
      "Time:                        12:23:41   Log-Likelihood:                -314.04\n",
      "No. Observations:                  63   AIC:                             632.1\n",
      "Df Residuals:                      61   BIC:                             636.4\n",
      "Df Model:                           1                                         \n",
      "Covariance Type:            nonrobust                                         \n",
      "==============================================================================\n",
      "                 coef    std err          t      P>|t|      [0.025      0.975]\n",
      "------------------------------------------------------------------------------\n",
      "const         19.9945      6.368      3.140      0.003       7.261      32.728\n",
      "claims         3.4138      0.195     17.465      0.000       3.023       3.805\n",
      "==============================================================================\n",
      "Omnibus:                        1.613   Durbin-Watson:                   1.199\n",
      "Prob(Omnibus):                  0.446   Jarque-Bera (JB):                1.429\n",
      "Skew:                           0.364   Prob(JB):                        0.489\n",
      "Kurtosis:                       2.875   Cond. No.                         45.8\n",
      "==============================================================================\n",
      "\n",
      "Notes:\n",
      "[1] Standard Errors assume that the covariance matrix of the errors is correctly specified.\n"
     ]
    }
   ],
   "source": [
    "print(results_insurance.summary())"
   ]
  },
  {
   "cell_type": "markdown",
   "id": "35267750",
   "metadata": {},
   "source": [
    "We can extract explicitly our parameter values for the intercept $\\theta_{0}$ and slope $\\theta_{1}$ using the attribute .params and the sum of square residuals using the property .ssr. Both of these are attributes of the results class: results_insurance."
   ]
  },
  {
   "cell_type": "code",
   "execution_count": 20,
   "id": "8df48290",
   "metadata": {},
   "outputs": [
    {
     "name": "stdout",
     "output_type": "stream",
     "text": [
      "The intercept value is 19.994\n",
      "The coefficient (slope) for the claims independent variable is 3.414\n",
      "The sum of square residuals is 78796.7\n"
     ]
    }
   ],
   "source": [
    "intercept_insurance = results_insurance.params[0]\n",
    "claims_coeff = results_insurance.params[1]\n",
    "ssr_insurance = results_insurance.ssr\n",
    "\n",
    "print('The intercept value is {:.3f}'.format(intercept_insurance))\n",
    "print('The coefficient (slope) for the claims independent variable is {:.3f}'.format(claims_coeff))\n",
    "print('The sum of square residuals is {:.1f}'.format(ssr_insurance))"
   ]
  },
  {
   "cell_type": "markdown",
   "id": "6e83d0b2",
   "metadata": {},
   "source": [
    "### Plotting Results\n",
    "We can also plot our fitted model using matplotlib. We use our model parameters found above to produce our best fit line of the form $y=\\theta_{0}+\\theta_{1}x$. Here we create a regular array of X-values, called x_synthetic, with values spanning the range of our observed X-values. We can use this to visualise our line of best fit by calculating the predicted values for these X-values and plotting the subsequent line."
   ]
  },
  {
   "cell_type": "code",
   "execution_count": 43,
   "id": "9e0db78a",
   "metadata": {},
   "outputs": [
    {
     "data": {
      "image/png": "[encoded data removed]",
      "text/plain": [
       "<Figure size 432x288 with 1 Axes>"
      ]
     },
     "metadata": {
      "needs_background": "light"
     },
     "output_type": "display_data"
    }
   ],
   "source": [
    "x_synthetic = np.linspace(0,insurance_df.claims.max(), 50)\n",
    "y_pred_insurance = claims_coeff*x_synthetic + intercept_insurance\n",
    "plot.scatter(insurance_df.claims, insurance_df.payment, color='c', label='Observed')\n",
    "plot.plot(x_synthetic, y_pred_insurance, color='r', ls='--', label='Model')\n",
    "plot.xlabel('Claims', color='g')\n",
    "plot.ylabel('Payment [100k Kenya Shillings]', color='g')\n",
    "plot.legend()\n",
    "plot.show()"
   ]
  },
  {
   "cell_type": "markdown",
   "id": "6fb46051",
   "metadata": {},
   "source": [
    "We can see that our best fit line well describes the trend of the data."
   ]
  }
 ],
 "metadata": {
  "kernelspec": {
   "display_name": "Python 3 (ipykernel)",
   "language": "python",
   "name": "python3"
  },
  "language_info": {
   "codemirror_mode": {
    "name": "ipython",
    "version": 3
   },
   "file_extension": ".py",
   "mimetype": "text/x-python",
   "name": "python",
   "nbconvert_exporter": "python",
   "pygments_lexer": "ipython3",
   "version": "3.9.12"
  }
 },
 "nbformat": 4,
 "nbformat_minor": 5
}
